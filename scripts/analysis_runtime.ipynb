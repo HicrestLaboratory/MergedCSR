{
 "cells": [
  {
   "cell_type": "markdown",
   "metadata": {},
   "source": [
    "# Read input data"
   ]
  },
  {
   "cell_type": "code",
   "execution_count": null,
   "metadata": {},
   "outputs": [],
   "source": [
    "import re\n",
    "import pprint\n",
    "import os\n",
    "\n",
    "# Define a pattern to match the relevant data\n",
    "pattern = r'Running (build/\\w+) on (\\w+)\\nNumber of threads: (\\d+)\\nRuntime: (\\d+\\.[\\d]+)'\n",
    "\n",
    "# List all files in the 'data_datasets' directory\n",
    "all_files = os.listdir('data_datasets')\n",
    "\n",
    "# Filter files that start with 'runtime_'\n",
    "runtime_files = [f for f in all_files if f.startswith('runtime_')]\n",
    "\n",
    "runtimes = {}\n",
    "\n",
    "for runtime_file in runtime_files:\n",
    "    # Read the text to parse from 'data_datasets/frontiers.log'\n",
    "    with open(f'data_datasets/{runtime_file}', 'r') as file:\n",
    "        file_format = file.read()\n",
    "\n",
    "    # Find all matches in the string\n",
    "    matches = re.findall(pattern, file_format)\n",
    "\n",
    "    # Convert matches to a list of dictionaries\n",
    "    runtimes[runtime_file[len('runtime_'):-4]] = [{'binary': match[0], 'dataset': match[1], 'threads': int(match[2]), 'runtime': match[3]} for match in matches]\n",
    "\n",
    "pprint.pprint(runtimes)"
   ]
  },
  {
   "cell_type": "markdown",
   "metadata": {},
   "source": [
    "# Generate plots on runtime and speedups"
   ]
  },
  {
   "cell_type": "code",
   "execution_count": null,
   "metadata": {},
   "outputs": [],
   "source": [
    "import numpy as np\n",
    "import matplotlib.pyplot as plt\n",
    "\n",
    "# Extract data for plotting\n",
    "datasets = [entry['dataset'] for entry in runtimes['reference']]\n",
    "reference_runtimes = [float(entry['runtime']) for entry in runtimes['reference']]\n",
    "bfs_runtimes = [float(entry['runtime']) for entry in runtimes['bfs']]\n",
    "\n",
    "# Calculate speedups\n",
    "speedups = [ref / bfs for ref, bfs in zip(reference_runtimes, bfs_runtimes)]\n",
    "\n",
    "# Plot runtimes\n",
    "x = np.arange(len(datasets))  # the label locations\n",
    "width = 0.35  # the width of the bars\n",
    "\n",
    "fig, ax = plt.subplots()\n",
    "rects1 = ax.bar(x - width/2, reference_runtimes, width, label='Reference')\n",
    "rects2 = ax.bar(x + width/2, bfs_runtimes, width, label='BFS')\n",
    "\n",
    "# Add some text for labels, title and custom x-axis tick labels, etc.\n",
    "ax.set_xlabel('Datasets')\n",
    "ax.set_ylabel('Runtimes (s)')\n",
    "ax.set_title('Runtimes')\n",
    "ax.set_xticks(x)\n",
    "ax.set_xticklabels(datasets, rotation=45, ha='right')\n",
    "ax.legend()\n",
    "\n",
    "fig.tight_layout()\n",
    "\n",
    "plt.show()\n",
    "\n",
    "# Plot speedups\n",
    "fig, ax = plt.subplots()\n",
    "rects = ax.bar(x, speedups)\n",
    "\n",
    "# Add some text for labels, title and custom x-axis tick labels, etc.\n",
    "ax.set_xlabel('Datasets')\n",
    "ax.set_ylabel('Speedup (Reference / BFS)')\n",
    "ax.set_title('Speedups')\n",
    "ax.set_xticks(x)\n",
    "ax.set_xticklabels(datasets, rotation=45, ha='right')\n",
    "\n",
    "fig.tight_layout()\n",
    "\n",
    "plt.show()"
   ]
  }
 ],
 "metadata": {
  "kernelspec": {
   "display_name": ".venv",
   "language": "python",
   "name": "python3"
  },
  "language_info": {
   "codemirror_mode": {
    "name": "ipython",
    "version": 3
   },
   "file_extension": ".py",
   "mimetype": "text/x-python",
   "name": "python",
   "nbconvert_exporter": "python",
   "pygments_lexer": "ipython3",
   "version": "3.12.3"
  }
 },
 "nbformat": 4,
 "nbformat_minor": 2
}
