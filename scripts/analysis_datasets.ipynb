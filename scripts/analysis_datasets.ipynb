{
 "cells": [
  {
   "cell_type": "markdown",
   "metadata": {},
   "source": [
    "# Read input data"
   ]
  },
  {
   "cell_type": "code",
   "execution_count": null,
   "metadata": {},
   "outputs": [],
   "source": [
    "import re\n",
    "import pprint\n",
    "\n",
    "# Define a pattern to match the relevant data\n",
    "pattern = r'Running (build/\\w+) on (\\w+)\\nNumber of threads: (\\d+)\\nFrontier sizes: ([\\d\\s]+)'\n",
    "\n",
    "# Read the text to parse from 'data_datasets/frontiers.log'\n",
    "with open('data_datasets/frontiers.log', 'r') as file:\n",
    "    file_format = file.read()\n",
    "\n",
    "# Find all matches in the string\n",
    "matches = re.findall(pattern, file_format)\n",
    "\n",
    "# Convert matches to a list of dictionaries\n",
    "frontier_data = [{'binary': match[0], 'dataset': match[1], 'threads': int(match[2]), 'frontier_sizes': list(map(int, match[3].split()))} for match in matches]\n",
    "\n",
    "pprint.pprint(frontier_data)"
   ]
  },
  {
   "cell_type": "markdown",
   "metadata": {},
   "source": [
    "# Generate plots on frontiers"
   ]
  },
  {
   "cell_type": "code",
   "execution_count": null,
   "metadata": {},
   "outputs": [],
   "source": [
    "import matplotlib.pyplot as plt\n",
    "\n",
    "# Separate the data based on the size of the frontier_sizes array\n",
    "small_frontier_data = [item for item in frontier_data if len(item['frontier_sizes']) < 100]\n",
    "large_frontier_data = [item for item in frontier_data if len(item['frontier_sizes']) >= 100]\n",
    "\n",
    "# Create subplots\n",
    "fig, axes = plt.subplots(nrows=1, ncols=2, figsize=(10, 3))\n",
    "\n",
    "# Plot small frontier data\n",
    "for item in small_frontier_data:\n",
    "    axes[0].plot(item['frontier_sizes'], label=item['dataset'])\n",
    "axes[0].set_title('Small-diameter Graphs')\n",
    "axes[0].set_xlabel('Step')\n",
    "axes[0].set_ylabel('Frontier Size')\n",
    "axes[0].legend()\n",
    "\n",
    "# Plot large frontier data\n",
    "for item in large_frontier_data:\n",
    "    axes[1].plot(item['frontier_sizes'], label=item['dataset'])\n",
    "axes[1].set_title('Large-diameter Graphs')\n",
    "axes[1].set_xlabel('Step')\n",
    "axes[1].set_ylabel('Frontier Size')\n",
    "axes[1].legend()\n",
    "\n",
    "plt.tight_layout()\n",
    "plt.show()"
   ]
  },
  {
   "cell_type": "code",
   "execution_count": null,
   "metadata": {},
   "outputs": [],
   "source": [
    "# Create subplots\n",
    "fig, axes = plt.subplots(nrows=1, ncols=2, figsize=(15, 5))\n",
    "\n",
    "# Boxplot for small frontier data\n",
    "axes[0].boxplot([item['frontier_sizes'] for item in small_frontier_data], tick_labels=[item['dataset'] for item in small_frontier_data])\n",
    "axes[0].set_title('Small-diameter Graphs')\n",
    "axes[0].set_xlabel('Dataset')\n",
    "axes[0].set_ylabel('Frontier Size')\n",
    "\n",
    "# Boxplot for large frontier data\n",
    "axes[1].boxplot([item['frontier_sizes'] for item in large_frontier_data], tick_labels=[item['dataset'] for item in large_frontier_data])\n",
    "axes[1].set_title('Large-diameter Graphs')\n",
    "axes[1].set_xlabel('Dataset')\n",
    "axes[1].set_ylabel('Frontier Size')\n",
    "\n",
    "plt.tight_layout()\n",
    "plt.show()"
   ]
  }
 ],
 "metadata": {
  "kernelspec": {
   "display_name": ".venv",
   "language": "python",
   "name": "python3"
  },
  "language_info": {
   "codemirror_mode": {
    "name": "ipython",
    "version": 3
   },
   "file_extension": ".py",
   "mimetype": "text/x-python",
   "name": "python",
   "nbconvert_exporter": "python",
   "pygments_lexer": "ipython3",
   "version": "3.12.3"
  }
 },
 "nbformat": 4,
 "nbformat_minor": 2
}
