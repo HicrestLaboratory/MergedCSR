{
 "cells": [
  {
   "cell_type": "markdown",
   "metadata": {},
   "source": [
    "# Read input data"
   ]
  },
  {
   "cell_type": "code",
   "execution_count": null,
   "metadata": {},
   "outputs": [],
   "source": [
    "import re\n",
    "import pprint\n",
    "import os\n",
    "\n",
    "# Define a pattern to match the relevant data\n",
    "RE_IGNORE_OPTIONAL_LINE = r'(?:[^\\n]*)?'\n",
    "pattern = [\n",
    "    r'Running ([/\\w]+) on (\\w+)[^\\n]*',\n",
    "    RE_IGNORE_OPTIONAL_LINE,\n",
    "    RE_IGNORE_OPTIONAL_LINE,\n",
    "    r'Number of threads: (\\d+)',\n",
    "    r'Thread tot iterations: ((?:\\d+ )*)',\n",
    "    r'Thread tot writes: ((?:\\d+ )*)',\n",
    "    r'Top-down Bottom-up switches: ((?:\\d+-\\d+ )*)',\n",
    "    r'Runtime: (\\d+\\.[\\d]+)'\n",
    "]\n",
    "pattern = r'\\n'.join(pattern)\n",
    "\n",
    "# List all files in the 'data_balancing' directory\n",
    "all_files = os.listdir('data_balancing')\n",
    "\n",
    "# Filter files that start with 'balancing_'\n",
    "files = [f for f in all_files if f.startswith('balancing_')]\n",
    "data = {}\n",
    "\n",
    "for filename in files:\n",
    "    # Read the text to parse from 'data_datasets/frontiers.log'\n",
    "    with open(f'data_balancing/{filename}', 'r') as file:\n",
    "        txt = file.read()\n",
    "\n",
    "    # Find all matches in the string\n",
    "    matches = re.findall(pattern, txt)\n",
    "\n",
    "    # Convert matches to a list of dictionaries\n",
    "    data[filename[len('balancing_'):-4]] = [{\n",
    "        'binary': match[0],\n",
    "        'dataset': match[1],\n",
    "        'threads': int(match[2]),\n",
    "        'threads_niter': [int(x) for x in match[3].split()],\n",
    "        'threads_writes': [int(x) for x in match[4].split()],\n",
    "        'td_bu_switches': [(int(x.split('-')[0]),int(x.split('-')[1])) for x in match[5].split()],\n",
    "        'runtime': match[6]\n",
    "        } for match in matches]\n",
    "\n",
    "pprint.pprint(data)"
   ]
  },
  {
   "cell_type": "markdown",
   "metadata": {},
   "source": [
    "# Generate plots on runtime and speedups"
   ]
  },
  {
   "cell_type": "code",
   "execution_count": null,
   "metadata": {},
   "outputs": [],
   "source": [
    "import matplotlib.pyplot as plt\n",
    "\n",
    "# Generate a different figure for each algorithm\n",
    "for algorithm, datasets in data.items():\n",
    "    n_cols = len(datasets)\n",
    "    fig, axes = plt.subplots(1, n_cols, figsize=(20, 5))\n",
    "    \n",
    "    for j, dataset in enumerate(datasets):\n",
    "        ax = axes[j] if n_cols > 1 else axes\n",
    "        x = range(len(dataset['threads_niter']))\n",
    "        width = 0.35\n",
    "\n",
    "        rects1 = ax.bar(x, dataset['threads_niter'], width, label='Iterations')\n",
    "        rects2 = ax.bar([p + width for p in x], dataset['threads_writes'], width, label='Writes')\n",
    "\n",
    "        ax.set_title(f\"{algorithm} - {dataset['dataset']}\")\n",
    "        ax.set_xlabel('Thread')\n",
    "        ax.set_ylabel('Count')\n",
    "        #ax.legend()\n",
    "\n",
    "    plt.tight_layout()\n",
    "    plt.show()\n",
    "    # Generate boxplots for iterations and writes\n",
    "    fig, axes = plt.subplots(1, 2, figsize=(15, 5))\n",
    "\n",
    "    # Boxplot for iterations\n",
    "    iterations_data = [dataset['threads_niter'] for dataset in datasets]\n",
    "    axes[0].boxplot(iterations_data)\n",
    "    axes[0].set_title('Iterations per Thread')\n",
    "    axes[0].set_xlabel('Dataset')\n",
    "    axes[0].set_ylabel('Iterations')\n",
    "\n",
    "    # Boxplot for writes\n",
    "    writes_data = [dataset['threads_writes'] for dataset in datasets]\n",
    "    axes[1].boxplot(writes_data)\n",
    "    axes[1].set_title('Writes per Thread')\n",
    "    axes[1].set_xlabel('Dataset')\n",
    "    axes[1].set_ylabel('Writes')\n",
    "\n",
    "    plt.tight_layout()\n",
    "    plt.show()"
   ]
  }
 ],
 "metadata": {
  "kernelspec": {
   "display_name": ".venv",
   "language": "python",
   "name": "python3"
  },
  "language_info": {
   "codemirror_mode": {
    "name": "ipython",
    "version": 3
   },
   "file_extension": ".py",
   "mimetype": "text/x-python",
   "name": "python",
   "nbconvert_exporter": "python",
   "pygments_lexer": "ipython3",
   "version": "3.12.3"
  }
 },
 "nbformat": 4,
 "nbformat_minor": 2
}
